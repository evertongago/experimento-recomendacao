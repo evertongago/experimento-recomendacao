{
 "cells": [
  {
   "cell_type": "markdown",
   "metadata": {},
   "source": [
    "Este tutorial mostra os detalhes da construção de um recomendador de conteúdos baseado em Filtragem Colaborativa. Em nossos experimentos utilizaremos os dados fornecidos pela MovieLens, um dataset gratuito criado e mantido pelo grupo de pesquisas em recomendação de conteúdos da Universidade de Minnesota (GroupLens).\n",
    "\n",
    "Estes dados podem ser obtidos a partir do seguinte endereço:\n",
    "\n",
    "http://files.grouplens.org/datasets/movielens/ml-100k.zip\n",
    "\n",
    "Veja a seguir a configuração dos dados:"
   ]
  },
  {
   "cell_type": "code",
   "execution_count": 1,
   "metadata": {
    "collapsed": false
   },
   "outputs": [
    {
     "data": {
      "text/html": [
       "<div>\n",
       "<table border=\"1\" class=\"dataframe\">\n",
       "  <thead>\n",
       "    <tr style=\"text-align: right;\">\n",
       "      <th></th>\n",
       "      <th>user_id</th>\n",
       "      <th>item_id</th>\n",
       "      <th>rating</th>\n",
       "      <th>timestamp</th>\n",
       "    </tr>\n",
       "  </thead>\n",
       "  <tbody>\n",
       "    <tr>\n",
       "      <th>0</th>\n",
       "      <td>196</td>\n",
       "      <td>242</td>\n",
       "      <td>3</td>\n",
       "      <td>881250949</td>\n",
       "    </tr>\n",
       "    <tr>\n",
       "      <th>1</th>\n",
       "      <td>186</td>\n",
       "      <td>302</td>\n",
       "      <td>3</td>\n",
       "      <td>891717742</td>\n",
       "    </tr>\n",
       "    <tr>\n",
       "      <th>2</th>\n",
       "      <td>22</td>\n",
       "      <td>377</td>\n",
       "      <td>1</td>\n",
       "      <td>878887116</td>\n",
       "    </tr>\n",
       "    <tr>\n",
       "      <th>3</th>\n",
       "      <td>244</td>\n",
       "      <td>51</td>\n",
       "      <td>2</td>\n",
       "      <td>880606923</td>\n",
       "    </tr>\n",
       "    <tr>\n",
       "      <th>4</th>\n",
       "      <td>166</td>\n",
       "      <td>346</td>\n",
       "      <td>1</td>\n",
       "      <td>886397596</td>\n",
       "    </tr>\n",
       "  </tbody>\n",
       "</table>\n",
       "</div>"
      ],
      "text/plain": [
       "   user_id  item_id  rating  timestamp\n",
       "0      196      242       3  881250949\n",
       "1      186      302       3  891717742\n",
       "2       22      377       1  878887116\n",
       "3      244       51       2  880606923\n",
       "4      166      346       1  886397596"
      ]
     },
     "execution_count": 1,
     "metadata": {},
     "output_type": "execute_result"
    }
   ],
   "source": [
    "import numpy  as np\n",
    "import pandas as pd\n",
    "\n",
    "names = ['user_id', 'item_id', 'rating', 'timestamp']\n",
    "df = pd.read_csv('u.data', sep='\\t', names=names)\n",
    "df.head()"
   ]
  },
  {
   "cell_type": "markdown",
   "metadata": {},
   "source": [
    "O arquivo \"u.data\", apresentado acima, possui 100 mil registros que representam o consumo e avaliação de um filme por um usuário. Cada registro é composto por: identificador do usuário, identificador do item, avalição e data / hora do registro.\n",
    "\n",
    "A seguir, apresentamos o total de usuários e filmes avaliados:"
   ]
  },
  {
   "cell_type": "code",
   "execution_count": 2,
   "metadata": {
    "collapsed": false
   },
   "outputs": [
    {
     "name": "stdout",
     "output_type": "stream",
     "text": [
      "943 users\n",
      "1682 items\n"
     ]
    }
   ],
   "source": [
    "n_users = df.user_id.unique().shape[0]\n",
    "n_items = df.item_id.unique().shape[0]\n",
    "print str(n_users) + ' users'\n",
    "print str(n_items) + ' items'"
   ]
  },
  {
   "cell_type": "markdown",
   "metadata": {},
   "source": [
    "Para facilitar os cálculos vamos organizar os dados em uma matriz, onde as linhas correspondem aos usuário e as colunas correspondem aos itens. Os valores de cada coluna será preenchido pela nota dada ao item, por cada usuários. Os itens não avaliados por um usuário reveberão o valor 0 (zero).\n",
    "\n",
    "Outra alternativa é criar uma matriz booleana, ignorando as notas dadas pelos usuários e indicando apenas se o usuário consumiu o conteúdo.\n",
    "\n",
    "Veja:"
   ]
  },
  {
   "cell_type": "code",
   "execution_count": 3,
   "metadata": {
    "collapsed": false
   },
   "outputs": [
    {
     "data": {
      "text/plain": [
       "array([[ 5.,  3.,  4., ...,  0.,  0.,  0.],\n",
       "       [ 4.,  0.,  0., ...,  0.,  0.,  0.],\n",
       "       [ 0.,  0.,  0., ...,  0.,  0.,  0.],\n",
       "       ..., \n",
       "       [ 5.,  0.,  0., ...,  0.,  0.,  0.],\n",
       "       [ 0.,  0.,  0., ...,  0.,  0.,  0.],\n",
       "       [ 0.,  5.,  0., ...,  0.,  0.,  0.]])"
      ]
     },
     "execution_count": 3,
     "metadata": {},
     "output_type": "execute_result"
    }
   ],
   "source": [
    "ratings = np.zeros((n_users, n_items))\n",
    "for row in df.itertuples():\n",
    "    ratings[row[1]-1, row[2]-1] = row[3]\n",
    "    #ratings[row[1]-1, row[2]-1] = 1\n",
    "ratings"
   ]
  },
  {
   "cell_type": "markdown",
   "metadata": {},
   "source": [
    "Embora tenhamos preenchido as classificações faltantes como 0 (zero), estes valores deveriam ser vistos como entradas vazias, pois são os elementos que nosso algoritmo deverá predizer. Essa predição depende do cálculo de similaridade entre os usuários e os itens, que toma como base seu histórico de consumo.\n",
    "\n",
    "Existem diversas medidas para o cálculo da similidade, a mais comum é a distância de cosenos. O resultado dado pela distância de cosenos é um ângulo entre dois vetores, quanto maior o ângulo mais distintos são os usuários / itens.\n",
    "\n",
    "A seguir, a medida de distância por cosenos:\n",
    "\n",
    "$$ \\mathrm{sim(u, k)=\\displaystyle\\sum_{i=1}^{n}\\frac{r_{ui}.r_{ki}}{\\sqrt{\\sum_{j=1}^{n} r_{uj}^{n}} \\sqrt{\\sum_{j=1}^{n} r_{kj}^{n}}}} $$"
   ]
  },
  {
   "cell_type": "code",
   "execution_count": 4,
   "metadata": {
    "collapsed": true
   },
   "outputs": [],
   "source": [
    "def similarity(ratings, kind='user', epsilon=1e-9):\n",
    "    if kind == 'user':\n",
    "        sim = ratings.dot(ratings.T) + epsilon\n",
    "    elif kind == 'item':\n",
    "        sim = ratings.T.dot(ratings) + epsilon\n",
    "    norms = np.array([np.sqrt(np.diagonal(sim))])\n",
    "    return (sim / norms / norms.T)"
   ]
  },
  {
   "cell_type": "markdown",
   "metadata": {},
   "source": [
    "É necessário considerar um fator epsilon para que não haja erros de divisões por zero, uma vez que a matriz de avaliações possui valores nulos. Para não divergir muito nos resultados, o valor de epsilon deve ser o mais próximo de zero possível.\n",
    "\n",
    "Uma vez definida a função de similaridade  podemos criar a função de predição. A função de predição é responsável por atribuir uma classificação para os itens que cada usuário ainda não avaliou, utilizando como base a relação de semelhança entre os usuários / itens.\n",
    "\n",
    "Veja:"
   ]
  },
  {
   "cell_type": "code",
   "execution_count": 5,
   "metadata": {
    "collapsed": true
   },
   "outputs": [],
   "source": [
    "def predict(ratings, similarity, kind='user'):\n",
    "    if kind == 'user':\n",
    "        return similarity.dot(ratings) / np.array([np.abs(similarity).sum(axis=1)]).T\n",
    "    elif kind == 'item':\n",
    "        return ratings.dot(similarity) / np.array([np.abs(similarity).sum(axis=1)])"
   ]
  },
  {
   "cell_type": "markdown",
   "metadata": {},
   "source": [
    "Para avaliar a capacidade de predição do nosso algoritmo vamos separar os dados em dois conjuntos, treino e teste. Para isso, vamos colocar aproximadamente 10 classificações dos usuários em cada conjunto."
   ]
  },
  {
   "cell_type": "code",
   "execution_count": 6,
   "metadata": {
    "collapsed": false
   },
   "outputs": [],
   "source": [
    "def train_test_split(ratings):\n",
    "    test = np.zeros(ratings.shape)\n",
    "    train = ratings.copy()\n",
    "    for user in xrange(ratings.shape[0]):\n",
    "        test_ratings = np.random.choice(ratings[user, :].nonzero()[0], size=10, replace=False)\n",
    "        train[user, test_ratings] = 0.\n",
    "        test[user, test_ratings] = ratings[user, test_ratings]\n",
    "\n",
    "    assert(np.all((train * test) == 0))\n",
    "    return train, test\n",
    "\n",
    "train, test = train_test_split(ratings)"
   ]
  },
  {
   "cell_type": "markdown",
   "metadata": {},
   "source": [
    "É importante lembrar que os conjuntos de treino e teste devem ser disjuntos, ou seja, eles não devem conter elementos em comum. Uma forma de validar se dois conjuntos são disjuntos é mostrar que intersecção de ambos resulta em um conjunto vazio.\n",
    "\n",
    "Para avaliar a eficiência do preditor, devemos treiná-lo com os dados de treinamento e utilizar os dados de teste para calcular a diferença entre as recomendações esperadas e as obtidas.\n",
    "\n",
    "Veja:"
   ]
  },
  {
   "cell_type": "code",
   "execution_count": 7,
   "metadata": {
    "collapsed": false
   },
   "outputs": [
    {
     "name": "stdout",
     "output_type": "stream",
     "text": [
      "User-based MSE: 8.40126218564\n",
      "Item-based MSE: 11.5537618551\n"
     ]
    }
   ],
   "source": [
    "from sklearn.metrics import mean_squared_error\n",
    "\n",
    "def get_mse(pred, actual):\n",
    "    # ignorar termos nao classificados.\n",
    "    pred = pred[actual.nonzero()].flatten()\n",
    "    actual = actual[actual.nonzero()].flatten()\n",
    "    return mean_squared_error(pred, actual)\n",
    "\n",
    "user_similarity = similarity(train, kind='user')\n",
    "item_similarity = similarity(train, kind='item')\n",
    "\n",
    "item_prediction = predict(train, item_similarity, kind='item')\n",
    "user_prediction = predict(train, user_similarity, kind='user')\n",
    "\n",
    "print 'User-based MSE: ' + str(get_mse(user_prediction, test))\n",
    "print 'Item-based MSE: ' + str(get_mse(item_prediction, test))"
   ]
  },
  {
   "cell_type": "markdown",
   "metadata": {},
   "source": [
    "Podemos minimizar o erro quadrático médio se considerar-mos os k usuários / itens mais parecidos entre si, ou seja, os top k elementos recomendados. É importante observar que tanto valores muito pequenos quanto valores muito grandes para k, podem produzir erros quadráticos médios grandes. Isso acontece porque o top k elementos pode não incluir as recomendações esperadas, como podem incluir muitas recomendações inesperadas.\n",
    "\n",
    "Veja o próximo experimento, para k = 40:"
   ]
  },
  {
   "cell_type": "code",
   "execution_count": 8,
   "metadata": {
    "collapsed": false
   },
   "outputs": [
    {
     "name": "stdout",
     "output_type": "stream",
     "text": [
      "Top-k User-based MSE: 6.49493678431\n",
      "Top-k Item-based MSE: 7.7354164236\n"
     ]
    }
   ],
   "source": [
    "def predict_topk(ratings, similarity, kind='user', k=40):\n",
    "    pred = np.zeros(ratings.shape)\n",
    "    if kind == 'user':\n",
    "        for i in xrange(ratings.shape[0]):\n",
    "            top_k_users = [np.argsort(similarity[:,i])[:-k-1:-1]]\n",
    "            for j in xrange(ratings.shape[1]):\n",
    "                pred[i, j] = similarity[i, :][top_k_users].dot(ratings[:, j][top_k_users]) \n",
    "                pred[i, j] /= np.sum(np.abs(similarity[i, :][top_k_users]))\n",
    "    if kind == 'item':\n",
    "        for j in xrange(ratings.shape[1]):\n",
    "            top_k_items = [np.argsort(similarity[:,j])[:-k-1:-1]]\n",
    "            for i in xrange(ratings.shape[0]):\n",
    "                pred[i, j] = similarity[j, :][top_k_items].dot(ratings[i, :][top_k_items].T) \n",
    "                pred[i, j] /= np.sum(np.abs(similarity[j, :][top_k_items]))        \n",
    "    \n",
    "    return pred\n",
    "\n",
    "pred = predict_topk(train, user_similarity, kind='user', k=40)\n",
    "print 'Top-k User-based MSE: ' + str(get_mse(pred, test))\n",
    "\n",
    "pred = predict_topk(train, item_similarity, kind='item', k=40)\n",
    "print 'Top-k Item-based MSE: ' + str(get_mse(pred, test))"
   ]
  },
  {
   "cell_type": "markdown",
   "metadata": {},
   "source": [
    "É importante mencionar que a função \"predict_topk\" não pode ser resolvida somente com operações matriciais, de modo que é necessário percorrer a matriz para calcular a similaridade entre os elementos e descobrir os k primeiros. Por conta disso a performance é muito ruim, se comparada a função \"predict\", que utiliza apenas operações matriciais.\n",
    "\n",
    "Embora os erros quadráticos médios sejam pequenos, é importante validar o classificador através de algumas simulações. Como estamos utilizando uma base de dados de filmes em nossos experimentos, podemos fazer essa análise de forma intuitiva.\n",
    "\n",
    "A seguir, veja as informações que temos sobre os filmes:"
   ]
  },
  {
   "cell_type": "code",
   "execution_count": 9,
   "metadata": {
    "collapsed": false
   },
   "outputs": [
    {
     "name": "stdout",
     "output_type": "stream",
     "text": [
      "1|Toy Story (1995)|01-Jan-1995||http://us.imdb.com/M/title-exact?Toy%20Story%20(1995)|0|0|0|1|1|1|0|0|0|0|0|0|0|0|0|0|0|0|0\r\n",
      "2|GoldenEye (1995)|01-Jan-1995||http://us.imdb.com/M/title-exact?GoldenEye%20(1995)|0|1|1|0|0|0|0|0|0|0|0|0|0|0|0|0|1|0|0\r\n",
      "3|Four Rooms (1995)|01-Jan-1995||http://us.imdb.com/M/title-exact?Four%20Rooms%20(1995)|0|0|0|0|0|0|0|0|0|0|0|0|0|0|0|0|1|0|0\r\n",
      "4|Get Shorty (1995)|01-Jan-1995||http://us.imdb.com/M/title-exact?Get%20Shorty%20(1995)|0|1|0|0|0|1|0|0|1|0|0|0|0|0|0|0|0|0|0\r\n",
      "5|Copycat (1995)|01-Jan-1995||http://us.imdb.com/M/title-exact?Copycat%20(1995)|0|0|0|0|0|0|1|0|1|0|0|0|0|0|0|0|1|0|0\r\n"
     ]
    }
   ],
   "source": [
    "!head -5 u.item"
   ]
  },
  {
   "cell_type": "markdown",
   "metadata": {},
   "source": [
    "Observe a base de dados de filmes possui uma URL para o IMDB do filme, de onde podemos extrair o poster oficial e simular algumas situações.\n",
    "\n",
    "Veja:"
   ]
  },
  {
   "cell_type": "code",
   "execution_count": 10,
   "metadata": {
    "collapsed": false
   },
   "outputs": [],
   "source": [
    "import warnings\n",
    "import requests\n",
    "import json\n",
    "\n",
    "# ignore iPython warnings.\n",
    "warnings.filterwarnings('ignore')\n",
    "\n",
    "def get_poster(url):\n",
    "    response = requests.get(url)\n",
    "    movie_id = response.url.split('/')[-2]\n",
    "    \n",
    "    # read poster path.\n",
    "    response = requests.get('https://api.themoviedb.org/3/movie/%s?api_key=63e2d5374176e0ea2e8fa271de9b6fda' % (movie_id))\n",
    "    datapath = json.loads(response.text)\n",
    "    if not 'poster_path' in datapath:\n",
    "        print '[ERROR] %s - URL not found.' % (url)\n",
    "        return None\n",
    "    \n",
    "    postpath = datapath['poster_path']\n",
    "    # return poster url.\n",
    "    response = requests.get('http://image.tmdb.org/t/p/original%s' % (postpath))\n",
    "    return 'http://image.tmdb.org/t/p/original%s' % (postpath)"
   ]
  },
  {
   "cell_type": "markdown",
   "metadata": {},
   "source": [
    "Algumas URL's podem não ser encontradas, por pequenas divergências ou alterações no endereçamento. Nestes casos apresentamos os posters que foram encontrados e listamos as URL's dos posters que divergirem.\n",
    "\n",
    "Para simular uma recomendação, criamos uma função que retorne os k itens mais recomendados, com k inicial = 6. Também criamos uma função que exibe os posters dos filmes, se encontrados.\n",
    "\n",
    "Veja:"
   ]
  },
  {
   "cell_type": "code",
   "execution_count": 11,
   "metadata": {
    "collapsed": false
   },
   "outputs": [],
   "source": [
    "from IPython.display import Image\n",
    "from IPython.display import display\n",
    "\n",
    "idx_to_movie = {}\n",
    "with open('u.item', 'r') as f:\n",
    "    for line in f.readlines():\n",
    "        info = line.split('|')\n",
    "        idx_to_movie[int(info[0])-1] = info[4]\n",
    "\n",
    "def top_k_movies(similarity, mapper, movie_idx, k=6):\n",
    "    return [mapper[x] for x in np.argsort(similarity[movie_idx,:])[:-k-1:-1]]\n",
    "\n",
    "def show_posters(idx, similarity):\n",
    "    movies = top_k_movies(similarity, idx_to_movie, idx)\n",
    "    posters = []\n",
    "    for movie in movies:\n",
    "        poster = get_poster(movie)\n",
    "        if poster:\n",
    "            posters.append(Image(url=poster, width=150, height=150))\n",
    "\n",
    "    display(*tuple(posters))"
   ]
  },
  {
   "cell_type": "markdown",
   "metadata": {},
   "source": [
    "Para a primeira simulação selecionamos o filme infantil Aladdin. Como podemos observar a seguir, uma análise intuitiva sugere que o conteúdo recomendado está próximo ao esperado. Também avaliamos as recomendações para o filme Toy Story, e os resultados foram satisfatórios.\n",
    "\n",
    "Veja:"
   ]
  },
  {
   "cell_type": "code",
   "execution_count": 38,
   "metadata": {
    "collapsed": false
   },
   "outputs": [
    {
     "name": "stdout",
     "output_type": "stream",
     "text": [
      "[ERROR] http://us.imdb.com/M/title-exact?Lion%20King,%20The%20(1994) - URL not found.\n",
      "[ERROR] http://us.imdb.com/M/title-exact?Empire%20Strikes%20Back,%20The%20(1980) - URL not found.\n"
     ]
    },
    {
     "data": {
      "text/html": [
       "<img src=\"http://image.tmdb.org/t/p/original/qsHpmqekgeQKMKL8PWnFsrXTXGs.jpg\" width=\"150\" height=\"150\"/>"
      ],
      "text/plain": [
       "<IPython.core.display.Image object>"
      ]
     },
     "metadata": {},
     "output_type": "display_data"
    },
    {
     "data": {
      "text/html": [
       "<img src=\"http://image.tmdb.org/t/p/original/b9QJr2oblOu1grgOMUZF1xkUJdh.jpg\" width=\"150\" height=\"150\"/>"
      ],
      "text/plain": [
       "<IPython.core.display.Image object>"
      ]
     },
     "metadata": {},
     "output_type": "display_data"
    },
    {
     "data": {
      "text/html": [
       "<img src=\"http://image.tmdb.org/t/p/original/c414cDeQ9b6qLPLeKmiJuLDUREJ.jpg\" width=\"150\" height=\"150\"/>"
      ],
      "text/plain": [
       "<IPython.core.display.Image object>"
      ]
     },
     "metadata": {},
     "output_type": "display_data"
    },
    {
     "data": {
      "text/html": [
       "<img src=\"http://image.tmdb.org/t/p/original/pTpxQB1N0waaSc3OSn0e9oc8kx9.jpg\" width=\"150\" height=\"150\"/>"
      ],
      "text/plain": [
       "<IPython.core.display.Image object>"
      ]
     },
     "metadata": {},
     "output_type": "display_data"
    }
   ],
   "source": [
    "idx = 94 # Aladdin\n",
    "show_posters(idx, item_similarity)"
   ]
  },
  {
   "cell_type": "markdown",
   "metadata": {},
   "source": [
    "Nessa outra simulação selecionamos um filme de ação (GoldenEye) e após avaliar os resultados consideramos que as recomendações também foram satisfatórias. Também testamos essa situação com o filme \"Terminator\", onde o resultado também foi como o esperado.\n",
    "\n",
    "Veja:"
   ]
  },
  {
   "cell_type": "code",
   "execution_count": 13,
   "metadata": {
    "collapsed": false
   },
   "outputs": [
    {
     "name": "stdout",
     "output_type": "stream",
     "text": [
      "[ERROR] http://us.imdb.com/M/title-exact?Speed%20(1994/I) - URL not found.\n"
     ]
    },
    {
     "data": {
      "text/html": [
       "<img src=\"http://image.tmdb.org/t/p/original/5c0ovjT41KnYIHYuF4AWsTe3sKh.jpg\" width=\"150\" height=\"150\"/>"
      ],
      "text/plain": [
       "<IPython.core.display.Image object>"
      ]
     },
     "metadata": {},
     "output_type": "display_data"
    },
    {
     "data": {
      "text/html": [
       "<img src=\"http://image.tmdb.org/t/p/original/mTAHr5h5i64hTLqo0cW2X2083Cx.jpg\" width=\"150\" height=\"150\"/>"
      ],
      "text/plain": [
       "<IPython.core.display.Image object>"
      ]
     },
     "metadata": {},
     "output_type": "display_data"
    },
    {
     "data": {
      "text/html": [
       "<img src=\"http://image.tmdb.org/t/p/original/duxM3HJ55Fpc4A3krziKn1FR22K.jpg\" width=\"150\" height=\"150\"/>"
      ],
      "text/plain": [
       "<IPython.core.display.Image object>"
      ]
     },
     "metadata": {},
     "output_type": "display_data"
    },
    {
     "data": {
      "text/html": [
       "<img src=\"http://image.tmdb.org/t/p/original/kBf3g9crrADGMc2AMAMlLBgSm2h.jpg\" width=\"150\" height=\"150\"/>"
      ],
      "text/plain": [
       "<IPython.core.display.Image object>"
      ]
     },
     "metadata": {},
     "output_type": "display_data"
    },
    {
     "data": {
      "text/html": [
       "<img src=\"http://image.tmdb.org/t/p/original/orGXnBKfT41LxZhitLkXhqUfJJW.jpg\" width=\"150\" height=\"150\"/>"
      ],
      "text/plain": [
       "<IPython.core.display.Image object>"
      ]
     },
     "metadata": {},
     "output_type": "display_data"
    }
   ],
   "source": [
    "idx = 1 # GoldenEye\n",
    "show_posters(idx, item_similarity)"
   ]
  },
  {
   "cell_type": "markdown",
   "metadata": {},
   "source": [
    "Em nosso próximo experimento selecionamos uma \"comédia tosca\", e como esperado todos os filmes recomendados são comédias da mesma categoria.\n",
    "\n",
    "Veja:"
   ]
  },
  {
   "cell_type": "code",
   "execution_count": 14,
   "metadata": {
    "collapsed": false
   },
   "outputs": [
    {
     "data": {
      "text/html": [
       "<img src=\"http://image.tmdb.org/t/p/original/5mP8F0NYSVrwrlWRCSD4uywMNnX.jpg\" width=\"150\" height=\"150\"/>"
      ],
      "text/plain": [
       "<IPython.core.display.Image object>"
      ]
     },
     "metadata": {},
     "output_type": "display_data"
    },
    {
     "data": {
      "text/html": [
       "<img src=\"http://image.tmdb.org/t/p/original/nZirljb8XYbKTWsRQTplDGhx39Q.jpg\" width=\"150\" height=\"150\"/>"
      ],
      "text/plain": [
       "<IPython.core.display.Image object>"
      ]
     },
     "metadata": {},
     "output_type": "display_data"
    },
    {
     "data": {
      "text/html": [
       "<img src=\"http://image.tmdb.org/t/p/original/3PEAkZHa8ehfUkuKbzmQNRTTAAs.jpg\" width=\"150\" height=\"150\"/>"
      ],
      "text/plain": [
       "<IPython.core.display.Image object>"
      ]
     },
     "metadata": {},
     "output_type": "display_data"
    },
    {
     "data": {
      "text/html": [
       "<img src=\"http://image.tmdb.org/t/p/original/3vILyxwmL4hcqiik638l8lL2d4h.jpg\" width=\"150\" height=\"150\"/>"
      ],
      "text/plain": [
       "<IPython.core.display.Image object>"
      ]
     },
     "metadata": {},
     "output_type": "display_data"
    },
    {
     "data": {
      "text/html": [
       "<img src=\"http://image.tmdb.org/t/p/original/8fKmBdU1Nl2jN7gmo9U8kEoAd6x.jpg\" width=\"150\" height=\"150\"/>"
      ],
      "text/plain": [
       "<IPython.core.display.Image object>"
      ]
     },
     "metadata": {},
     "output_type": "display_data"
    },
    {
     "data": {
      "text/html": [
       "<img src=\"http://image.tmdb.org/t/p/original/94P6kzKH8aPmQmPr9yZjgy7BtQQ.jpg\" width=\"150\" height=\"150\"/>"
      ],
      "text/plain": [
       "<IPython.core.display.Image object>"
      ]
     },
     "metadata": {},
     "output_type": "display_data"
    }
   ],
   "source": [
    "idx = 40 # Billy Madison\n",
    "show_posters(idx, item_similarity)"
   ]
  },
  {
   "cell_type": "markdown",
   "metadata": {},
   "source": [
    "Um ponto que acreditamos ser muito sensível é a medida de similaridade. Nos experimentos anteriores utilizamos uma distãncia de cossenos, que mede o ângulo de diferenciação entre dois conteúdos. Para avaliar o quanto as medidas de similaridade podem influenciar nas recomendações, resolvemos repetir os experimentos utilizando os Coeficientes de Pearson, uma medida de correlação linear.\n",
    "\n",
    "$$ \\mathrm{sim(u, k)=\\displaystyle\\frac{\\sum_{i=1}^{n} (x_{i} - \\bar{x})(k_{i} - \\bar{k})}{\\sqrt{\\sum_{i=1}^{n} (x_{i} - \\bar{x})^2} \\sqrt{\\sum_{j=1}^{n} (k_{i} - \\bar{k})}}} = \\frac{cov(x, k)}{\\sqrt{var(x).var(k)}}$$\n",
    "\n",
    "Veja:"
   ]
  },
  {
   "cell_type": "code",
   "execution_count": 15,
   "metadata": {
    "collapsed": true
   },
   "outputs": [],
   "source": [
    "from sklearn.metrics import pairwise_distances\n",
    "# pearson coefficient\n",
    "item_correlation = 1 - pairwise_distances(train.T, metric='correlation')\n",
    "item_correlation[np.isnan(item_correlation)] = 0."
   ]
  },
  {
   "cell_type": "markdown",
   "metadata": {},
   "source": [
    "Reproduzindo o primeiro experimento utilizando os Coeficientes de Pearson:"
   ]
  },
  {
   "cell_type": "code",
   "execution_count": 16,
   "metadata": {
    "collapsed": false
   },
   "outputs": [
    {
     "name": "stdout",
     "output_type": "stream",
     "text": [
      "[ERROR] http://us.imdb.com/M/title-exact?Lion%20King,%20The%20(1994) - URL not found.\n"
     ]
    },
    {
     "data": {
      "text/html": [
       "<img src=\"http://image.tmdb.org/t/p/original/qsHpmqekgeQKMKL8PWnFsrXTXGs.jpg\" width=\"150\" height=\"150\"/>"
      ],
      "text/plain": [
       "<IPython.core.display.Image object>"
      ]
     },
     "metadata": {},
     "output_type": "display_data"
    },
    {
     "data": {
      "text/html": [
       "<img src=\"http://image.tmdb.org/t/p/original/b9QJr2oblOu1grgOMUZF1xkUJdh.jpg\" width=\"150\" height=\"150\"/>"
      ],
      "text/plain": [
       "<IPython.core.display.Image object>"
      ]
     },
     "metadata": {},
     "output_type": "display_data"
    },
    {
     "data": {
      "text/html": [
       "<img src=\"http://image.tmdb.org/t/p/original/c414cDeQ9b6qLPLeKmiJuLDUREJ.jpg\" width=\"150\" height=\"150\"/>"
      ],
      "text/plain": [
       "<IPython.core.display.Image object>"
      ]
     },
     "metadata": {},
     "output_type": "display_data"
    },
    {
     "data": {
      "text/html": [
       "<img src=\"http://image.tmdb.org/t/p/original/pTpxQB1N0waaSc3OSn0e9oc8kx9.jpg\" width=\"150\" height=\"150\"/>"
      ],
      "text/plain": [
       "<IPython.core.display.Image object>"
      ]
     },
     "metadata": {},
     "output_type": "display_data"
    },
    {
     "data": {
      "text/html": [
       "<img src=\"http://image.tmdb.org/t/p/original/wbVGRBYPRRahIZNGXY9TfHDUSc2.jpg\" width=\"150\" height=\"150\"/>"
      ],
      "text/plain": [
       "<IPython.core.display.Image object>"
      ]
     },
     "metadata": {},
     "output_type": "display_data"
    }
   ],
   "source": [
    "idx = 94 # Aladdin\n",
    "show_posters(idx, item_correlation)"
   ]
  },
  {
   "cell_type": "markdown",
   "metadata": {},
   "source": [
    "Reproduzindo o segundo experimento com os Coeficientes de Pearson:"
   ]
  },
  {
   "cell_type": "code",
   "execution_count": 17,
   "metadata": {
    "collapsed": false
   },
   "outputs": [
    {
     "name": "stdout",
     "output_type": "stream",
     "text": [
      "[ERROR] http://us.imdb.com/M/title-exact?Speed%20(1994/I) - URL not found.\n"
     ]
    },
    {
     "data": {
      "text/html": [
       "<img src=\"http://image.tmdb.org/t/p/original/5c0ovjT41KnYIHYuF4AWsTe3sKh.jpg\" width=\"150\" height=\"150\"/>"
      ],
      "text/plain": [
       "<IPython.core.display.Image object>"
      ]
     },
     "metadata": {},
     "output_type": "display_data"
    },
    {
     "data": {
      "text/html": [
       "<img src=\"http://image.tmdb.org/t/p/original/duxM3HJ55Fpc4A3krziKn1FR22K.jpg\" width=\"150\" height=\"150\"/>"
      ],
      "text/plain": [
       "<IPython.core.display.Image object>"
      ]
     },
     "metadata": {},
     "output_type": "display_data"
    },
    {
     "data": {
      "text/html": [
       "<img src=\"http://image.tmdb.org/t/p/original/mTAHr5h5i64hTLqo0cW2X2083Cx.jpg\" width=\"150\" height=\"150\"/>"
      ],
      "text/plain": [
       "<IPython.core.display.Image object>"
      ]
     },
     "metadata": {},
     "output_type": "display_data"
    },
    {
     "data": {
      "text/html": [
       "<img src=\"http://image.tmdb.org/t/p/original/k0PN3Ho12cGGIVJW7SCS7apLYaP.jpg\" width=\"150\" height=\"150\"/>"
      ],
      "text/plain": [
       "<IPython.core.display.Image object>"
      ]
     },
     "metadata": {},
     "output_type": "display_data"
    },
    {
     "data": {
      "text/html": [
       "<img src=\"http://image.tmdb.org/t/p/original/39WsfbB5BshvdbPAYRFXdsjC481.jpg\" width=\"150\" height=\"150\"/>"
      ],
      "text/plain": [
       "<IPython.core.display.Image object>"
      ]
     },
     "metadata": {},
     "output_type": "display_data"
    }
   ],
   "source": [
    "idx = 1 # GoldenEye\n",
    "show_posters(idx, item_correlation)"
   ]
  },
  {
   "cell_type": "markdown",
   "metadata": {},
   "source": [
    "Reproduzindo o terceiro experimento com os Coeficientes de Pearson:"
   ]
  },
  {
   "cell_type": "code",
   "execution_count": 19,
   "metadata": {
    "collapsed": false
   },
   "outputs": [
    {
     "data": {
      "text/html": [
       "<img src=\"http://image.tmdb.org/t/p/original/5mP8F0NYSVrwrlWRCSD4uywMNnX.jpg\" width=\"150\" height=\"150\"/>"
      ],
      "text/plain": [
       "<IPython.core.display.Image object>"
      ]
     },
     "metadata": {},
     "output_type": "display_data"
    },
    {
     "data": {
      "text/html": [
       "<img src=\"http://image.tmdb.org/t/p/original/nZirljb8XYbKTWsRQTplDGhx39Q.jpg\" width=\"150\" height=\"150\"/>"
      ],
      "text/plain": [
       "<IPython.core.display.Image object>"
      ]
     },
     "metadata": {},
     "output_type": "display_data"
    },
    {
     "data": {
      "text/html": [
       "<img src=\"http://image.tmdb.org/t/p/original/3PEAkZHa8ehfUkuKbzmQNRTTAAs.jpg\" width=\"150\" height=\"150\"/>"
      ],
      "text/plain": [
       "<IPython.core.display.Image object>"
      ]
     },
     "metadata": {},
     "output_type": "display_data"
    },
    {
     "data": {
      "text/html": [
       "<img src=\"http://image.tmdb.org/t/p/original/8fKmBdU1Nl2jN7gmo9U8kEoAd6x.jpg\" width=\"150\" height=\"150\"/>"
      ],
      "text/plain": [
       "<IPython.core.display.Image object>"
      ]
     },
     "metadata": {},
     "output_type": "display_data"
    },
    {
     "data": {
      "text/html": [
       "<img src=\"http://image.tmdb.org/t/p/original/3vILyxwmL4hcqiik638l8lL2d4h.jpg\" width=\"150\" height=\"150\"/>"
      ],
      "text/plain": [
       "<IPython.core.display.Image object>"
      ]
     },
     "metadata": {},
     "output_type": "display_data"
    },
    {
     "data": {
      "text/html": [
       "<img src=\"http://image.tmdb.org/t/p/original/94P6kzKH8aPmQmPr9yZjgy7BtQQ.jpg\" width=\"150\" height=\"150\"/>"
      ],
      "text/plain": [
       "<IPython.core.display.Image object>"
      ]
     },
     "metadata": {},
     "output_type": "display_data"
    }
   ],
   "source": [
    "idx = 40 # Billy Madison\n",
    "show_posters(idx, item_correlation)"
   ]
  },
  {
   "cell_type": "markdown",
   "metadata": {},
   "source": [
    "Conclusões:\n",
    "\n",
    "* Executamos os experimentos em relação as similidades dos itens, pois assim seria mais fácil avaliar, visto que não conhecemos os usuários.\n",
    "* O conjunto de dados utilizado apresentou pouca variação entre a matriz de notas e a matriz de visitas, embora o erro quadrático médio de ambas as situações tenham sido muito diferentes.\n",
    "* Ambas as medidas de semelhança utilizadas produziram resultados satisfatórios.\n",
    "* A transformação dos algoritmos em operações matriciais é muito mais performático."
   ]
  }
 ],
 "metadata": {
  "kernelspec": {
   "display_name": "Python 2",
   "language": "python",
   "name": "python2"
  },
  "language_info": {
   "codemirror_mode": {
    "name": "ipython",
    "version": 2
   },
   "file_extension": ".py",
   "mimetype": "text/x-python",
   "name": "python",
   "nbconvert_exporter": "python",
   "pygments_lexer": "ipython2",
   "version": "2.7.3"
  }
 },
 "nbformat": 4,
 "nbformat_minor": 0
}
